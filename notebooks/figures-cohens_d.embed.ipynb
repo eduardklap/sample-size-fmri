{
 "cells": [
  {
   "cell_type": "markdown",
   "metadata": {},
   "source": [
    "# Code for Figures 1-2 based on Cohen’s d\n",
    "\n",
    "Eduard Klapwijk\n",
    "\n",
    "Load libraries to produce figures:"
   ],
   "id": "965c58fd-f144-4302-8e4b-811784cb0724"
  },
  {
   "cell_type": "code",
   "execution_count": null,
   "metadata": {},
   "outputs": [],
   "source": [
    "# load libraries\n",
    "library(dplyr)\n",
    "library(patchwork)\n",
    "# load devtools library and load neuro-up package from github repo\n",
    "library(devtools)\n",
    "install_github(\"eduardklap/neuroUp\")\n",
    "library(neuroUp)"
   ],
   "id": "d0eaae12-f3a3-456f-b11e-590e2d50bebc"
  },
  {
   "cell_type": "markdown",
   "metadata": {},
   "source": [
    "Set seed and create Figure 1A for the Feedback task DLPFC ROI:"
   ],
   "id": "f0644099-4be1-45d4-9919-0e1a6c5f353c"
  },
  {
   "cell_type": "code",
   "execution_count": null,
   "metadata": {},
   "outputs": [],
   "source": [
    "# set seed\n",
    "set.seed(1234)\n",
    "\n",
    "# Estimate differences (unstandardized and Cohen's d)\n",
    "Fig1a <- estim_diff(data = feedback,\n",
    "                    vars_of_interest = c(\"mfg_learning\", \n",
    "                                         \"mfg_application\"),\n",
    "                    sample_size = 20:271, \n",
    "                    k = 1000, \n",
    "                    name = \"A. Feedback DLPFC\")"
   ],
   "id": "1e61cfe1-4c1d-410f-9f0d-4c46849e41a5"
  },
  {
   "cell_type": "markdown",
   "metadata": {},
   "source": [
    "Set seed and create Figure 1B for the Gambling task NAcc ROI:"
   ],
   "id": "17d6e9dc-d870-4c26-a5b3-fcfaca83470d"
  },
  {
   "cell_type": "code",
   "execution_count": null,
   "metadata": {},
   "outputs": [],
   "source": [
    "# set seed\n",
    "set.seed(1234)\n",
    "\n",
    "# Estimate differences (unstandardized and Cohen's d)\n",
    "Fig1b <- estim_diff(data = gambling, \n",
    "                    vars_of_interest = c(\"lnacc_self_win\", \n",
    "                                         \"lnacc_self_loss\"), \n",
    "                    sample_size = 20:221, \n",
    "                    k = 1000, \n",
    "                    name = \"B. Gambling NAcc\")"
   ],
   "id": "530c5043-ace6-4ce1-8795-1e940b3130df"
  },
  {
   "cell_type": "markdown",
   "metadata": {},
   "source": [
    "Set seed and create Figure 1C for the Self-evaluations task mPFC ROI:"
   ],
   "id": "bb78fa88-53bd-42bd-8337-b856462898fc"
  },
  {
   "cell_type": "code",
   "execution_count": null,
   "metadata": {},
   "outputs": [],
   "source": [
    "# set seed\n",
    "set.seed(1234)\n",
    "\n",
    "# Estimate differences (unstandardized and Cohen's d)\n",
    "Fig1c <- estim_diff(data = self_eval, \n",
    "                    vars_of_interest = c(\"mpfc_self\", \n",
    "                                         \"mpfc_control\"),\n",
    "                    sample_size = 20:149, \n",
    "                    k = 10, \n",
    "                    name = \"C. Self-evaluations mPFC\")"
   ],
   "id": "699acff8-0cf8-4ca4-a111-9512c2c22777"
  },
  {
   "cell_type": "markdown",
   "metadata": {},
   "source": [
    "Set seed and create Figure 1D for the Gaining for self task NAcc ROI:"
   ],
   "id": "a3a02ab8-1c48-4277-a469-760e232e3d39"
  },
  {
   "cell_type": "code",
   "execution_count": null,
   "metadata": {},
   "outputs": [],
   "source": [
    "# set seed\n",
    "set.seed(1234)\n",
    "\n",
    "# Estimate differences (unstandardized and Cohen's d)\n",
    "Fig1d <- estim_diff(data = vicar_char, \n",
    "                    vars_of_interest = c(\"nacc_selfgain\", \n",
    "                                         \"nacc_bothnogain\"),\n",
    "                    sample_size = 20:156, \n",
    "                    k = 10, \n",
    "                    name = \"D. Gaining self NAcc\")"
   ],
   "id": "8bfb19e4-ff16-46ee-a4b6-40dad4852768"
  },
  {
   "cell_type": "markdown",
   "metadata": {},
   "source": [
    "Combine figures 1A-D in one figure for Cohen’s d estimates:"
   ],
   "id": "39350bc2-7c73-4caa-a249-8df9f2f1485c"
  },
  {
   "cell_type": "code",
   "execution_count": null,
   "metadata": {},
   "outputs": [],
   "source": [
    "Fig1a$fig_cohens_d + Fig1b$fig_cohens_d + Fig1c$fig_cohens_d + Fig1d$fig_cohens_d"
   ],
   "id": "f2a90480-c149-4a43-a15b-b136556a4baf"
  },
  {
   "cell_type": "markdown",
   "metadata": {},
   "source": [
    "Combine figures 1A-D in one figure for the proportion of intervals not containing the value 0:"
   ],
   "id": "9b09048e-ea96-49ce-b863-0c6a1fa5f478"
  },
  {
   "cell_type": "code",
   "execution_count": null,
   "metadata": {},
   "outputs": [],
   "source": [
    "Fig1a$fig_d_nozero + Fig1b$fig_d_nozero + Fig1c$fig_d_nozero + Fig1d$fig_d_nozero"
   ],
   "id": "636ae763-78b6-45fb-81b8-6daa66874ce7"
  },
  {
   "cell_type": "markdown",
   "metadata": {},
   "source": [
    "Extract numbers to make table 2:"
   ],
   "id": "2865344b-e474-4fdf-97ae-929696edb81f"
  },
  {
   "cell_type": "code",
   "execution_count": null,
   "metadata": {},
   "outputs": [],
   "source": [
    "# first extract tibble from results (select mean only)\n",
    "feedback <- as_tibble(Fig1a$tbl_select) %>%\n",
    "  dplyr::filter(permutation == \"Overall\")\n",
    "gambling <- as_tibble(Fig1b$tbl_select) %>%\n",
    "  dplyr::filter(permutation == \"Overall\")\n",
    "selfeval <- as_tibble(Fig1c$tbl_select) %>%\n",
    "  dplyr::filter(permutation == \"Overall\")\n",
    "gaining <- as_tibble(Fig1d$tbl_select) %>%\n",
    "  dplyr::filter(permutation == \"Overall\")\n",
    "\n",
    "# use numbers to make a table in text"
   ],
   "id": "3c50681d-f628-4c82-8dbb-3105ae0f20e0"
  }
 ],
 "nbformat": 4,
 "nbformat_minor": 5,
 "metadata": {}
}
