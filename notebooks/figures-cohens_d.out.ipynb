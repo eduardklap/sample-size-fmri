{
 "cells": [
  {
   "cell_type": "markdown",
   "metadata": {},
   "source": [
    "# Code for Figures 1-2 based on Cohen’s d\n",
    "\n",
    "Eduard Klapwijk\n",
    "\n",
    "Load libraries to produce figures:"
   ],
   "id": "23b92bee-e778-44eb-a066-e036041e210f"
  },
  {
   "cell_type": "code",
   "execution_count": null,
   "metadata": {},
   "outputs": [],
   "source": [
    "# load libraries\n",
    "library(dplyr)\n",
    "library(patchwork)\n",
    "# load devtools library and load neuro-up package from github repo\n",
    "library(devtools)\n",
    "install_github(\"eduardklap/neuroUp\")\n",
    "library(neuroUp)\n"
   ],
   "id": "2ad1067a-a4fa-4a87-ad16-3c89bc864635"
  },
  {
   "cell_type": "markdown",
   "metadata": {},
   "source": [
    "Set seed and create Figure 1A for the Feedback task DLPFC ROI:"
   ],
   "id": "2ef3364b-9442-420e-befd-8195c94da4ec"
  },
  {
   "cell_type": "code",
   "execution_count": null,
   "metadata": {},
   "outputs": [],
   "source": [
    "# set seed\n",
    "set.seed(1234)\n",
    "\n",
    "# Estimate differences (unstandardized and Cohen's d)\n",
    "Fig1a <- estim_diff(data = feedback,\n",
    "                    vars_of_interest = c(\"mfg_learning\", \n",
    "                                         \"mfg_application\"),\n",
    "                    sample_size = 20:271, \n",
    "                    k = 1000, \n",
    "                    name = \"A. Feedback DLPFC\")\n"
   ],
   "id": "58e6edbc-232b-44d4-8134-65af069fccec"
  },
  {
   "cell_type": "markdown",
   "metadata": {},
   "source": [
    "Set seed and create Figure 1B for the Gambling task NAcc ROI:"
   ],
   "id": "8ada4d44-4d20-4580-8468-907e4c8b0a51"
  },
  {
   "cell_type": "code",
   "execution_count": null,
   "metadata": {},
   "outputs": [],
   "source": [
    "# set seed\n",
    "set.seed(1234)\n",
    "\n",
    "# Estimate differences (unstandardized and Cohen's d)\n",
    "Fig1b <- estim_diff(data = gambling, \n",
    "                    vars_of_interest = c(\"lnacc_self_win\", \n",
    "                                         \"lnacc_self_loss\"), \n",
    "                    sample_size = 20:221, \n",
    "                    k = 1000, \n",
    "                    name = \"B. Gambling NAcc\")\n"
   ],
   "id": "bb317fe7-13e1-4260-8328-bda526e8e0e8"
  },
  {
   "cell_type": "markdown",
   "metadata": {},
   "source": [
    "Set seed and create Figure 1C for the Self-evaluations task mPFC ROI:"
   ],
   "id": "aa44a301-e6da-480e-87e1-536a7a880633"
  },
  {
   "cell_type": "code",
   "execution_count": null,
   "metadata": {},
   "outputs": [],
   "source": [
    "# set seed\n",
    "set.seed(1234)\n",
    "\n",
    "# Estimate differences (unstandardized and Cohen's d)\n",
    "Fig1c <- estim_diff(data = self_eval, \n",
    "                    vars_of_interest = c(\"mpfc_self\", \n",
    "                                         \"mpfc_control\"),\n",
    "                    sample_size = 20:149, \n",
    "                    k = 10, \n",
    "                    name = \"C. Self-evaluations mPFC\")\n"
   ],
   "id": "147ea126-5c9c-4998-a736-5ee703247178"
  },
  {
   "cell_type": "markdown",
   "metadata": {},
   "source": [
    "Set seed and create Figure 1D for the Gaining for self task NAcc ROI:"
   ],
   "id": "e854ab0c-a3b7-4224-a132-39308e5f782c"
  },
  {
   "cell_type": "code",
   "execution_count": null,
   "metadata": {},
   "outputs": [],
   "source": [
    "# set seed\n",
    "set.seed(1234)\n",
    "\n",
    "# Estimate differences (unstandardized and Cohen's d)\n",
    "Fig1d <- estim_diff(data = vicar_char, \n",
    "                    vars_of_interest = c(\"nacc_selfgain\", \n",
    "                                         \"nacc_bothnogain\"),\n",
    "                    sample_size = 20:156, \n",
    "                    k = 10, \n",
    "                    name = \"D. Gaining self NAcc\")\n"
   ],
   "id": "ee18fbda-fd55-44dc-b13e-f6a561efde9e"
  },
  {
   "cell_type": "markdown",
   "metadata": {},
   "source": [
    "Combine figures 1A-D in one figure for Cohen’s d estimates:"
   ],
   "id": "69a0c26b-e82c-4257-9db2-502f09cc89ff"
  },
  {
   "cell_type": "code",
   "execution_count": null,
   "metadata": {},
   "outputs": [],
   "source": [
    "Fig1a$fig_cohens_d + Fig1b$fig_cohens_d + Fig1c$fig_cohens_d + Fig1d$fig_cohens_d\n"
   ],
   "id": "df939e60-5a8d-4a91-a3db-ec5503a4f570"
  },
  {
   "cell_type": "markdown",
   "metadata": {},
   "source": [
    "Combine figures 1A-D in one figure for the proportion of intervals not containing the value 0:"
   ],
   "id": "b50bf67b-1449-4f6f-885e-89afb8f3f44c"
  },
  {
   "cell_type": "code",
   "execution_count": null,
   "metadata": {},
   "outputs": [],
   "source": [
    "Fig1a$fig_d_nozero + Fig1b$fig_d_nozero + Fig1c$fig_d_nozero + Fig1d$fig_d_nozero\n"
   ],
   "id": "fc2fea63-e827-4a4c-bf40-bcf8ee5fa33c"
  },
  {
   "cell_type": "markdown",
   "metadata": {},
   "source": [
    "Extract numbers to make table 2:"
   ],
   "id": "bbc08906-5827-42f6-b218-f4a01e1172a6"
  },
  {
   "cell_type": "code",
   "execution_count": null,
   "metadata": {},
   "outputs": [],
   "source": [
    "# first extract tibble from results (select mean only)\n",
    "feedback <- as_tibble(Fig1a$tbl_select) %>%\n",
    "  dplyr::filter(permutation == \"Overall\")\n",
    "gambling <- as_tibble(Fig1b$tbl_select) %>%\n",
    "  dplyr::filter(permutation == \"Overall\")\n",
    "selfeval <- as_tibble(Fig1c$tbl_select) %>%\n",
    "  dplyr::filter(permutation == \"Overall\")\n",
    "gaining <- as_tibble(Fig1d$tbl_select) %>%\n",
    "  dplyr::filter(permutation == \"Overall\")\n",
    "\n",
    "# use numbers to make a table in text\n"
   ],
   "id": "4129db2c-284c-4714-a3c6-4320b1282735"
  }
 ],
 "nbformat": 4,
 "nbformat_minor": 5,
 "metadata": {}
}
