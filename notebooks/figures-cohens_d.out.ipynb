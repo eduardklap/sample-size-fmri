{
 "cells": [
  {
   "cell_type": "markdown",
   "metadata": {},
   "source": [
    "# Code for Figures 1-2 based on Cohen’s d\n",
    "\n",
    "Eduard Klapwijk\n",
    "\n",
    "Load libraries to produce figures:"
   ],
   "id": "83eb5812-5a6d-4b3d-8056-87c0fd2620ca"
  },
  {
   "cell_type": "code",
   "execution_count": null,
   "metadata": {},
   "outputs": [],
   "source": [
    "# load libraries\n",
    "library(dplyr)\n",
    "library(patchwork)\n",
    "# load devtools library and load neuro-up package from github repo\n",
    "library(devtools)\n",
    "install_github(\"eduardklap/neuroUp\")\n",
    "library(neuroUp)\n"
   ],
   "id": "dff4abd5-d346-4f2a-b82c-099dda20f65a"
  },
  {
   "cell_type": "markdown",
   "metadata": {},
   "source": [
    "Set seed and create Figure 1A for the Feedback task DLPFC ROI:"
   ],
   "id": "67a4fcac-6486-4349-979f-e38354327251"
  },
  {
   "cell_type": "code",
   "execution_count": null,
   "metadata": {},
   "outputs": [],
   "source": [
    "# set seed\n",
    "set.seed(1234)\n",
    "\n",
    "# Estimate differences (unstandardized and Cohen's d)\n",
    "Fig1a <- estim_diff(data = feedback,\n",
    "                    vars_of_interest = c(\"mfg_learning\", \n",
    "                                         \"mfg_application\"),\n",
    "                    sample_size = 20:271, \n",
    "                    k = 1000, \n",
    "                    name = \"A. Feedback DLPFC\")\n"
   ],
   "id": "cae9d2c1-f332-42ee-8cfd-e7223368957e"
  },
  {
   "cell_type": "markdown",
   "metadata": {},
   "source": [
    "Set seed and create Figure 1B for the Gambling task NAcc ROI:"
   ],
   "id": "89f339aa-a071-4757-afc4-90a4fc96528d"
  },
  {
   "cell_type": "code",
   "execution_count": null,
   "metadata": {},
   "outputs": [],
   "source": [
    "# set seed\n",
    "set.seed(1234)\n",
    "\n",
    "# Estimate differences (unstandardized and Cohen's d)\n",
    "Fig1b <- estim_diff(data = gambling, \n",
    "                    vars_of_interest = c(\"lnacc_self_win\", \n",
    "                                         \"lnacc_self_loss\"), \n",
    "                    sample_size = 20:221, \n",
    "                    k = 1000, \n",
    "                    name = \"B. Gambling NAcc\")\n"
   ],
   "id": "1e2fa765-a40a-460c-8899-bddc2d2e09bf"
  },
  {
   "cell_type": "markdown",
   "metadata": {},
   "source": [
    "Set seed and create Figure 1C for the Self-evaluations task mPFC ROI:"
   ],
   "id": "eb400f59-c36c-4b9b-baf1-e07d028cf253"
  },
  {
   "cell_type": "code",
   "execution_count": null,
   "metadata": {},
   "outputs": [],
   "source": [
    "# set seed\n",
    "set.seed(1234)\n",
    "\n",
    "# Estimate differences (unstandardized and Cohen's d)\n",
    "Fig1c <- estim_diff(data = self_eval, \n",
    "                    vars_of_interest = c(\"mpfc_self\", \n",
    "                                         \"mpfc_control\"),\n",
    "                    sample_size = 20:149, \n",
    "                    k = 10, \n",
    "                    name = \"C. Self-evaluations mPFC\")\n"
   ],
   "id": "c6004407-a8e5-44d7-85a1-0ce7b340df97"
  },
  {
   "cell_type": "markdown",
   "metadata": {},
   "source": [
    "Set seed and create Figure 1D for the Gaining for self task NAcc ROI:"
   ],
   "id": "39263064-db9c-4153-8fe6-d3d4e617bff8"
  },
  {
   "cell_type": "code",
   "execution_count": null,
   "metadata": {},
   "outputs": [],
   "source": [
    "# set seed\n",
    "set.seed(1234)\n",
    "\n",
    "# Estimate differences (unstandardized and Cohen's d)\n",
    "Fig1d <- estim_diff(data = vicar_char, \n",
    "                    vars_of_interest = c(\"nacc_selfgain\", \n",
    "                                         \"nacc_bothnogain\"),\n",
    "                    sample_size = 20:156, \n",
    "                    k = 10, \n",
    "                    name = \"D. Gaining self NAcc\")\n"
   ],
   "id": "ac5a931b-1cc2-409e-8d47-f665a61ef0c8"
  },
  {
   "cell_type": "markdown",
   "metadata": {},
   "source": [
    "Combine figures 1A-D in one figure for Cohen’s d estimates:"
   ],
   "id": "07016677-583e-417f-a234-ceba8b6b8591"
  },
  {
   "cell_type": "code",
   "execution_count": null,
   "metadata": {},
   "outputs": [],
   "source": [
    "Fig1a$fig_cohens_d + Fig1b$fig_cohens_d + Fig1c$fig_cohens_d + Fig1d$fig_cohens_d\n"
   ],
   "id": "7ffa36ff-27c3-417c-af77-10b0bc4b7a81"
  },
  {
   "cell_type": "markdown",
   "metadata": {},
   "source": [
    "Combine figures 1A-D in one figure for the proportion of intervals not containing the value 0:"
   ],
   "id": "c1461a0b-a49f-4472-90f6-d7ad2de535f5"
  },
  {
   "cell_type": "code",
   "execution_count": null,
   "metadata": {},
   "outputs": [],
   "source": [
    "Fig1a$fig_d_nozero + Fig1b$fig_d_nozero + Fig1c$fig_d_nozero + Fig1d$fig_d_nozero\n"
   ],
   "id": "52d1353b-a287-41a2-a4e2-bdcba2b9beb0"
  },
  {
   "cell_type": "markdown",
   "metadata": {},
   "source": [
    "Extract numbers to make table 2:"
   ],
   "id": "02af453c-aaa1-416c-b326-d77953d60a93"
  },
  {
   "cell_type": "code",
   "execution_count": null,
   "metadata": {},
   "outputs": [],
   "source": [
    "# first extract tibble from results (select mean only)\n",
    "feedback <- as_tibble(Fig1a$tbl_select) %>%\n",
    "  dplyr::filter(permutation == \"Overall\")\n",
    "gambling <- as_tibble(Fig1b$tbl_select) %>%\n",
    "  dplyr::filter(permutation == \"Overall\")\n",
    "selfeval <- as_tibble(Fig1c$tbl_select) %>%\n",
    "  dplyr::filter(permutation == \"Overall\")\n",
    "gaining <- as_tibble(Fig1d$tbl_select) %>%\n",
    "  dplyr::filter(permutation == \"Overall\")\n",
    "\n",
    "# use numbers to make a table in text\n"
   ],
   "id": "896699a2-b1b5-47af-a86d-afe2e95aff7c"
  }
 ],
 "nbformat": 4,
 "nbformat_minor": 5,
 "metadata": {}
}
