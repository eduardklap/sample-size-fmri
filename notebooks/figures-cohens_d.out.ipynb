{
 "cells": [
  {
   "cell_type": "markdown",
   "metadata": {},
   "source": [
    "# Code for Figures 1-2 based on Cohen’s d\n",
    "\n",
    "Eduard Klapwijk\n",
    "\n",
    "Load libraries to produce figures:"
   ],
   "id": "57d04f19-b153-44df-abb4-2fa481ebc740"
  },
  {
   "cell_type": "code",
   "execution_count": null,
   "metadata": {},
   "outputs": [],
   "source": [
    "# load libraries\n",
    "library(dplyr)\n",
    "library(patchwork)\n",
    "# load devtools library and load neuro-up package from github repo\n",
    "library(devtools)\n",
    "install_github(\"eduardklap/neuroUp\")\n",
    "library(neuroUp)\n"
   ],
   "id": "1ca91bc1-16ab-43d1-87c1-f1451183aedb"
  },
  {
   "cell_type": "markdown",
   "metadata": {},
   "source": [
    "Set seed and create Figure 1A for the Feedback task DLPFC ROI:"
   ],
   "id": "2f12ac21-13e4-4da5-9762-4ebf95d037b0"
  },
  {
   "cell_type": "code",
   "execution_count": null,
   "metadata": {},
   "outputs": [],
   "source": [
    "# set seed\n",
    "set.seed(1234)\n",
    "\n",
    "# Estimate differences (unstandardized and Cohen's d)\n",
    "Fig1a <- estim_diff(data = feedback,\n",
    "                    vars_of_interest = c(\"mfg_learning\", \n",
    "                                         \"mfg_application\"),\n",
    "                    sample_size = 20:271, \n",
    "                    k = 1000, \n",
    "                    name = \"A. Feedback DLPFC\")\n"
   ],
   "id": "9d630890-3707-4a63-a56a-a288000eace4"
  },
  {
   "cell_type": "markdown",
   "metadata": {},
   "source": [
    "Set seed and create Figure 1B for the Gambling task NAcc ROI:"
   ],
   "id": "6fe34a43-33bc-40e2-b84d-579a4ecbe273"
  },
  {
   "cell_type": "code",
   "execution_count": null,
   "metadata": {},
   "outputs": [],
   "source": [
    "# set seed\n",
    "set.seed(1234)\n",
    "\n",
    "# Estimate differences (unstandardized and Cohen's d)\n",
    "Fig1b <- estim_diff(data = gambling, \n",
    "                    vars_of_interest = c(\"lnacc_self_win\", \n",
    "                                         \"lnacc_self_loss\"), \n",
    "                    sample_size = 20:221, \n",
    "                    k = 1000, \n",
    "                    name = \"B. Gambling NAcc\")\n"
   ],
   "id": "b962a1d9-a023-4566-9291-dfc97e80ae17"
  },
  {
   "cell_type": "markdown",
   "metadata": {},
   "source": [
    "Set seed and create Figure 1C for the Self-evaluations task mPFC ROI:"
   ],
   "id": "807ae537-9ebb-4042-a1a5-5dec810702e1"
  },
  {
   "cell_type": "code",
   "execution_count": null,
   "metadata": {},
   "outputs": [],
   "source": [
    "# set seed\n",
    "set.seed(1234)\n",
    "\n",
    "# Estimate differences (unstandardized and Cohen's d)\n",
    "Fig1c <- estim_diff(data = self_eval, \n",
    "                    vars_of_interest = c(\"mpfc_self\", \n",
    "                                         \"mpfc_control\"),\n",
    "                    sample_size = 20:149, \n",
    "                    k = 10, \n",
    "                    name = \"C. Self-evaluations mPFC\")\n"
   ],
   "id": "e0d745b6-7d6b-48e2-a903-0aa6bbcaeaaa"
  },
  {
   "cell_type": "markdown",
   "metadata": {},
   "source": [
    "Set seed and create Figure 1D for the Gaining for self task NAcc ROI:"
   ],
   "id": "d84a7687-f9f9-4ce0-bacb-f187c21b7bed"
  },
  {
   "cell_type": "code",
   "execution_count": null,
   "metadata": {},
   "outputs": [],
   "source": [
    "# set seed\n",
    "set.seed(1234)\n",
    "\n",
    "# Estimate differences (unstandardized and Cohen's d)\n",
    "Fig1d <- estim_diff(data = vicar_char, \n",
    "                    vars_of_interest = c(\"nacc_selfgain\", \n",
    "                                         \"nacc_bothnogain\"),\n",
    "                    sample_size = 20:156, \n",
    "                    k = 10, \n",
    "                    name = \"D. Gaining self NAcc\")\n"
   ],
   "id": "cb17ea89-90ab-41e2-8da9-4aaea2ce87c5"
  },
  {
   "cell_type": "markdown",
   "metadata": {},
   "source": [
    "Combine figures 1A-D in one figure for Cohen’s d estimates:"
   ],
   "id": "8ad2ccc0-5ad3-4659-ac86-8bf91ae81ee9"
  },
  {
   "cell_type": "code",
   "execution_count": null,
   "metadata": {},
   "outputs": [],
   "source": [
    "Fig1a$fig_cohens_d + Fig1b$fig_cohens_d + Fig1c$fig_cohens_d + Fig1d$fig_cohens_d\n"
   ],
   "id": "e456f108-efe4-4e79-ad9a-1f3f215512f8"
  },
  {
   "cell_type": "markdown",
   "metadata": {},
   "source": [
    "Combine figures 1A-D in one figure for the proportion of intervals not containing the value 0:"
   ],
   "id": "8f5eacec-510c-4894-bc1a-b88c37ad120c"
  },
  {
   "cell_type": "code",
   "execution_count": null,
   "metadata": {},
   "outputs": [],
   "source": [
    "Fig1a$fig_d_nozero + Fig1b$fig_d_nozero + Fig1c$fig_d_nozero + Fig1d$fig_d_nozero\n"
   ],
   "id": "4ebf6a96-dcd5-424a-9252-765e32ddecc2"
  },
  {
   "cell_type": "markdown",
   "metadata": {},
   "source": [
    "Extract numbers to make table 2:"
   ],
   "id": "59f1e81b-070b-4fda-917e-d4c463633e4d"
  },
  {
   "cell_type": "code",
   "execution_count": null,
   "metadata": {},
   "outputs": [],
   "source": [
    "# first extract tibble from results (select mean only)\n",
    "feedback <- as_tibble(Fig1a$tbl_select) %>%\n",
    "  dplyr::filter(permutation == \"Overall\")\n",
    "gambling <- as_tibble(Fig1b$tbl_select) %>%\n",
    "  dplyr::filter(permutation == \"Overall\")\n",
    "selfeval <- as_tibble(Fig1c$tbl_select) %>%\n",
    "  dplyr::filter(permutation == \"Overall\")\n",
    "gaining <- as_tibble(Fig1d$tbl_select) %>%\n",
    "  dplyr::filter(permutation == \"Overall\")\n",
    "\n",
    "# use numbers to make a table in text\n"
   ],
   "id": "f6b1b0af-cf87-4346-9ea2-b5b5fea4f02f"
  }
 ],
 "nbformat": 4,
 "nbformat_minor": 5,
 "metadata": {}
}
