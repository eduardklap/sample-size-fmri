{
 "cells": [
  {
   "cell_type": "markdown",
   "metadata": {},
   "source": [
    "# Code for Figures 3-4 based on Pearson’s correlations\n",
    "\n",
    "Eduard Klapwijk\n",
    "\n",
    "Load libraries to produce figures:"
   ],
   "id": "6fa9beae-3a76-44f0-8bfc-dcb1c9f58373"
  },
  {
   "cell_type": "code",
   "execution_count": null,
   "metadata": {},
   "outputs": [],
   "source": [
    "# load libraries\n",
    "library(dplyr)\n",
    "library(patchwork)\n",
    "# load devtools library and load neuro-up package from github repo\n",
    "library(devtools)\n",
    "install_github(\"eduardklap/neuroUp\")\n",
    "library(neuroUp)\n"
   ],
   "id": "c6f40927-a049-4b92-ba50-5b8cee2ba821"
  },
  {
   "cell_type": "markdown",
   "metadata": {},
   "source": [
    "Set seed and create Figure 3A for the Feedback task DLPFC ROI:"
   ],
   "id": "96d3e545-01c1-4ae5-885a-c4c505215cf0"
  },
  {
   "cell_type": "code",
   "execution_count": null,
   "metadata": {},
   "outputs": [],
   "source": [
    "# set seed\n",
    "set.seed(1234)\n",
    "\n",
    "# calculate difference mfg_learning vs. mfg_application\n",
    "data_feedback <- feedback\n",
    "data_feedback$dif <- data_feedback$mfg_learning - data_feedback$mfg_application\n",
    "\n",
    "# Estimate correlations\n",
    "Fig3a <- estim_corr(data = data_feedback,\n",
    "                    vars_of_interest = c(\"dif\", \"age\"),\n",
    "                    sample_size = 20:271, \n",
    "                    k = 1000, \n",
    "                    name = \"A. Feedback DLPFC corr. with age\")\n"
   ],
   "id": "b5b8ec53-679a-4201-9c11-22eaa192f455"
  },
  {
   "cell_type": "markdown",
   "metadata": {},
   "source": [
    "Set seed and create Figure 3B for the Gambling task NAcc ROI:"
   ],
   "id": "d59713a4-34b8-4153-9208-86c1cfdf0487"
  },
  {
   "cell_type": "code",
   "execution_count": null,
   "metadata": {},
   "outputs": [],
   "source": [
    "# set seed\n",
    "set.seed(1234)\n",
    "\n",
    "# Estimate correlations\n",
    "Fig3b <- estim_corr(data = gambling, \n",
    "                    vars_of_interest = c(\"lnacc_self_winvsloss\", \n",
    "                                         \"age\"), \n",
    "                    sample_size = 20:221, \n",
    "                    k = 1000, \n",
    "                    name = \"B. Gambling NAcc corr. with age\")\n"
   ],
   "id": "42c3535c-c159-4862-815a-9b191ad5d139"
  },
  {
   "cell_type": "markdown",
   "metadata": {},
   "source": [
    "Set seed and create Figure 3C for the Self-evaluations task mPFC ROI:"
   ],
   "id": "900ddebd-4187-4807-9ee3-be2754396bf1"
  },
  {
   "cell_type": "code",
   "execution_count": null,
   "metadata": {},
   "outputs": [],
   "source": [
    "# set seed\n",
    "set.seed(1234)\n",
    "\n",
    "# calculate difference mpfc_self - mpfc_control\n",
    "data_self <- self_eval\n",
    "data_self$dif <- data_self$mpfc_self - data_self$mpfc_control\n",
    "\n",
    "# Estimate correlations\n",
    "Fig3c <- estim_corr(data = data_self,\n",
    "                    vars_of_interest = c(\"dif\",\n",
    "                                         \"age\"),\n",
    "                    sample_size = 20:149, \n",
    "                    k = 1000, \n",
    "                    name = \"C. Self-evaluations mPFC corr. with age\")\n"
   ],
   "id": "cb05f4c3-9f23-448a-b306-c4d3182ff401"
  },
  {
   "cell_type": "markdown",
   "metadata": {},
   "source": [
    "Set seed and create Figure 3D for the Gaining for self task NAcc ROI:"
   ],
   "id": "7c464056-69c7-4cdf-9699-ee3711d505cb"
  },
  {
   "cell_type": "code",
   "execution_count": null,
   "metadata": {},
   "outputs": [],
   "source": [
    "# set seed\n",
    "set.seed(1234)\n",
    "\n",
    "# calculate difference nacc_selfgain vs. nacc_bothnogain\n",
    "data_vicar <- vicar_char\n",
    "data_vicar$dif <- data_vicar$nacc_selfgain - data_vicar$nacc_bothnogain\n",
    "\n",
    "# Estimate correlations\n",
    "Fig3d <- estim_corr(data = data_vicar, \n",
    "                    vars_of_interest = c(\"diff\", \n",
    "                                         \"age\"),\n",
    "                    sample_size = 20:156, \n",
    "                    k = 1000, \n",
    "                    name = \"D. Gaining self left NAcc corr. with age\")\n"
   ],
   "id": "3ca52ade-45f1-4a16-82e2-73f8b45f284b"
  },
  {
   "cell_type": "markdown",
   "metadata": {},
   "source": [
    "Combine figures 3A-D in one figure for Pearson’s correlations:"
   ],
   "id": "52b6b367-674a-4c32-91ad-de4cb5e62db9"
  },
  {
   "cell_type": "code",
   "execution_count": null,
   "metadata": {},
   "outputs": [],
   "source": [
    "Fig3a$fig_corr + Fig3b$fig_corr + Fig3c$fig_corr + Fig3d$fig_corr\n"
   ],
   "id": "d6a4ee00-025a-4dfa-9071-23985d821d74"
  },
  {
   "cell_type": "markdown",
   "metadata": {},
   "source": [
    "Combine figures 4A-D in one figure for the proportion of intervals not containing the value 0:"
   ],
   "id": "846c9491-fe08-4a14-ac22-6b61475bb35b"
  },
  {
   "cell_type": "code",
   "execution_count": null,
   "metadata": {},
   "outputs": [],
   "source": [
    "Fig3a$fig_corr_nozero + Fig3b$fig_corr_nozero + Fig3c$fig_corr_nozero + Fig3d$fig_corr_nozero\n"
   ],
   "id": "7bb9dd6e-d7ec-4f3f-a57b-e7b4447d4d77"
  },
  {
   "cell_type": "markdown",
   "metadata": {},
   "source": [
    "Extract numbers to make table 3:"
   ],
   "id": "dca092ec-48b4-4ae8-a647-f1cc111442a8"
  },
  {
   "cell_type": "code",
   "execution_count": null,
   "metadata": {},
   "outputs": [],
   "source": [
    "# first extract tibble from results (select mean only)\n",
    "feedback <- as_tibble(Fig3a$tbl_select) %>%\n",
    "  dplyr::filter(permutation == \"Overall\")\n",
    "gambling <- as_tibble(Fig3b$tbl_select) %>%\n",
    "  dplyr::filter(permutation == \"Overall\")\n",
    "selfeval <- as_tibble(Fig3c$tbl_select) %>%\n",
    "  dplyr::filter(permutation == \"Overall\")\n",
    "gaining <- as_tibble(Fig3d$tbl_select) %>%\n",
    "  dplyr::filter(permutation == \"Overall\")\n",
    "\n",
    "# use numbers to make a table in text\n"
   ],
   "id": "ca56d21a-2db4-4b62-88a8-3369db48332e"
  }
 ],
 "nbformat": 4,
 "nbformat_minor": 5,
 "metadata": {}
}
