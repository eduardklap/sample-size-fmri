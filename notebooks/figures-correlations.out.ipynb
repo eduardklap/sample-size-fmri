{
 "cells": [
  {
   "cell_type": "markdown",
   "metadata": {},
   "source": [
    "# Code for Figures 3-4 based on Pearson’s correlations\n",
    "\n",
    "Eduard Klapwijk\n",
    "\n",
    "Load libraries to produce figures:"
   ],
   "id": "d42785cc-8efc-4bc6-b4b5-1d9c01288328"
  },
  {
   "cell_type": "code",
   "execution_count": null,
   "metadata": {},
   "outputs": [],
   "source": [
    "# load libraries\n",
    "library(dplyr)\n",
    "library(patchwork)\n",
    "# load devtools library and load neuro-up package from github repo\n",
    "library(devtools)\n",
    "install_github(\"eduardklap/neuroUp\")\n",
    "library(neuroUp)\n"
   ],
   "id": "34b6c9e7-b23b-4441-92b3-ba8775a53e17"
  },
  {
   "cell_type": "markdown",
   "metadata": {},
   "source": [
    "Set seed and create Figure 3A for the Feedback task DLPFC ROI:"
   ],
   "id": "62f31748-9d1f-4458-8ace-eb79d9dd99ee"
  },
  {
   "cell_type": "code",
   "execution_count": null,
   "metadata": {},
   "outputs": [],
   "source": [
    "# set seed\n",
    "set.seed(1234)\n",
    "\n",
    "# calculate difference mfg_learning vs. mfg_application\n",
    "data_feedback <- feedback\n",
    "data_feedback$dif <- data_feedback$mfg_learning - data_feedback$mfg_application\n",
    "\n",
    "# Estimate correlations\n",
    "Fig3a <- estim_corr(data = data_feedback,\n",
    "                    vars_of_interest = c(\"dif\", \"age\"),\n",
    "                    sample_size = 20:271, \n",
    "                    k = 1000, \n",
    "                    name = \"A. Feedback DLPFC corr. with age\")\n"
   ],
   "id": "597922a0-8f0a-41ab-a88e-0194e0be3dbc"
  },
  {
   "cell_type": "markdown",
   "metadata": {},
   "source": [
    "Set seed and create Figure 3B for the Gambling task NAcc ROI:"
   ],
   "id": "d7bcf4af-3000-455f-873f-f0fc40fc27c7"
  },
  {
   "cell_type": "code",
   "execution_count": null,
   "metadata": {},
   "outputs": [],
   "source": [
    "# set seed\n",
    "set.seed(1234)\n",
    "\n",
    "# Estimate correlations\n",
    "Fig3b <- estim_corr(data = gambling, \n",
    "                    vars_of_interest = c(\"lnacc_self_winvsloss\", \n",
    "                                         \"age\"), \n",
    "                    sample_size = 20:221, \n",
    "                    k = 1000, \n",
    "                    name = \"B. Gambling NAcc corr. with age\")\n"
   ],
   "id": "ea1339c6-c7d6-4248-b7ae-d795cd1ef25a"
  },
  {
   "cell_type": "markdown",
   "metadata": {},
   "source": [
    "Set seed and create Figure 3C for the Self-evaluations task mPFC ROI:"
   ],
   "id": "34c203be-d7f5-4bcd-8fa7-1e4e6d3319b6"
  },
  {
   "cell_type": "code",
   "execution_count": null,
   "metadata": {},
   "outputs": [],
   "source": [
    "# set seed\n",
    "set.seed(1234)\n",
    "\n",
    "# calculate difference mpfc_self - mpfc_control\n",
    "data_self <- self_eval\n",
    "data_self$dif <- data_self$mpfc_self - data_self$mpfc_control\n",
    "\n",
    "# Estimate correlations\n",
    "Fig3c <- estim_corr(data = data_self,\n",
    "                    vars_of_interest = c(\"dif\",\n",
    "                                         \"age\"),\n",
    "                    sample_size = 20:149, \n",
    "                    k = 1000, \n",
    "                    name = \"C. Self-evaluations mPFC corr. with age\")\n"
   ],
   "id": "d2c3bdd3-1f7a-47d9-a885-3651f7804066"
  },
  {
   "cell_type": "markdown",
   "metadata": {},
   "source": [
    "Set seed and create Figure 3D for the Gaining for self task NAcc ROI:"
   ],
   "id": "6290cf2c-0f90-450a-81f9-65cc14484526"
  },
  {
   "cell_type": "code",
   "execution_count": null,
   "metadata": {},
   "outputs": [],
   "source": [
    "# set seed\n",
    "set.seed(1234)\n",
    "\n",
    "# calculate difference nacc_selfgain vs. nacc_bothnogain\n",
    "data_vicar <- vicar_char\n",
    "data_vicar$dif <- data_vicar$nacc_selfgain - data_vicar$nacc_bothnogain\n",
    "\n",
    "# Estimate correlations\n",
    "Fig3d <- estim_corr(data = data_vicar, \n",
    "                    vars_of_interest = c(\"diff\", \n",
    "                                         \"age\"),\n",
    "                    sample_size = 20:156, \n",
    "                    k = 1000, \n",
    "                    name = \"D. Gaining self left NAcc corr. with age\")\n"
   ],
   "id": "ae2b5d54-5988-4dc5-98b6-0652c832318c"
  },
  {
   "cell_type": "markdown",
   "metadata": {},
   "source": [
    "Combine figures 3A-D in one figure for Pearson’s correlations:"
   ],
   "id": "853a32c6-d9fe-41f3-9c7b-48a853e833f7"
  },
  {
   "cell_type": "code",
   "execution_count": null,
   "metadata": {},
   "outputs": [],
   "source": [
    "Fig3a$fig_corr + Fig3b$fig_corr + Fig3c$fig_corr + Fig3d$fig_corr\n"
   ],
   "id": "eb350129-2334-45dc-97e0-39e4ff89387c"
  },
  {
   "cell_type": "markdown",
   "metadata": {},
   "source": [
    "Combine figures 4A-D in one figure for the proportion of intervals not containing the value 0:"
   ],
   "id": "8f566a57-c23f-4785-a4df-fff18da78808"
  },
  {
   "cell_type": "code",
   "execution_count": null,
   "metadata": {},
   "outputs": [],
   "source": [
    "Fig3a$fig_corr_nozero + Fig3b$fig_corr_nozero + Fig3c$fig_corr_nozero + Fig3d$fig_corr_nozero\n"
   ],
   "id": "0ae32f91-2fa6-4847-8410-db091b8a3c7b"
  },
  {
   "cell_type": "markdown",
   "metadata": {},
   "source": [
    "Extract numbers to make table 3:"
   ],
   "id": "be25d1eb-5d43-4cf6-b88c-7e43c04c6d4e"
  },
  {
   "cell_type": "code",
   "execution_count": null,
   "metadata": {},
   "outputs": [],
   "source": [
    "# first extract tibble from results (select mean only)\n",
    "feedback <- as_tibble(Fig3a$tbl_select) %>%\n",
    "  dplyr::filter(permutation == \"Overall\")\n",
    "gambling <- as_tibble(Fig3b$tbl_select) %>%\n",
    "  dplyr::filter(permutation == \"Overall\")\n",
    "selfeval <- as_tibble(Fig3c$tbl_select) %>%\n",
    "  dplyr::filter(permutation == \"Overall\")\n",
    "gaining <- as_tibble(Fig3d$tbl_select) %>%\n",
    "  dplyr::filter(permutation == \"Overall\")\n",
    "\n",
    "# use numbers to make a table in text\n"
   ],
   "id": "f671ed1a-26b2-4ea2-bcdb-dbd1f2c0b616"
  }
 ],
 "nbformat": 4,
 "nbformat_minor": 5,
 "metadata": {}
}
