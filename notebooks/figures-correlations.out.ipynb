{
 "cells": [
  {
   "cell_type": "markdown",
   "metadata": {},
   "source": [
    "# Code for Figures 3-4 based on Pearson’s correlations\n",
    "\n",
    "Eduard Klapwijk\n",
    "\n",
    "Load libraries to produce figures:"
   ],
   "id": "c2dd3a7a-c072-46b6-ad6e-55948c71d6b0"
  },
  {
   "cell_type": "code",
   "execution_count": null,
   "metadata": {},
   "outputs": [],
   "source": [
    "# load libraries\n",
    "library(dplyr)\n",
    "library(patchwork)\n",
    "# load devtools library and load neuro-up package from github repo\n",
    "library(devtools)\n",
    "install_github(\"eduardklap/neuroUp\")\n",
    "library(neuroUp)\n"
   ],
   "id": "1e31bd98-d270-4f86-835e-64ac8139a50c"
  },
  {
   "cell_type": "markdown",
   "metadata": {},
   "source": [
    "Set seed and create Figure 3A for the Feedback task DLPFC ROI:"
   ],
   "id": "84bce3e4-e3e7-4282-a6f4-75df42a3046e"
  },
  {
   "cell_type": "code",
   "execution_count": null,
   "metadata": {},
   "outputs": [],
   "source": [
    "# set seed\n",
    "set.seed(1234)\n",
    "\n",
    "# calculate difference mfg_learning vs. mfg_application\n",
    "data_feedback <- feedback\n",
    "data_feedback$dif <- data_feedback$mfg_learning - data_feedback$mfg_application\n",
    "\n",
    "# Estimate correlations\n",
    "Fig3a <- estim_corr(data = data_feedback,\n",
    "                    vars_of_interest = c(\"dif\", \"age\"),\n",
    "                    sample_size = 20:271, \n",
    "                    k = 1000, \n",
    "                    name = \"A. Feedback DLPFC corr. with age\")\n"
   ],
   "id": "82392067-3b45-4837-9c2b-34a0a33afc4f"
  },
  {
   "cell_type": "markdown",
   "metadata": {},
   "source": [
    "Set seed and create Figure 3B for the Gambling task NAcc ROI:"
   ],
   "id": "56a294f0-416c-4fba-8e94-2635b50534c4"
  },
  {
   "cell_type": "code",
   "execution_count": null,
   "metadata": {},
   "outputs": [],
   "source": [
    "# set seed\n",
    "set.seed(1234)\n",
    "\n",
    "# Estimate correlations\n",
    "Fig3b <- estim_corr(data = gambling, \n",
    "                    vars_of_interest = c(\"lnacc_self_winvsloss\", \n",
    "                                         \"age\"), \n",
    "                    sample_size = 20:221, \n",
    "                    k = 1000, \n",
    "                    name = \"B. Gambling NAcc corr. with age\")\n"
   ],
   "id": "7871b572-684d-4532-bf15-96fae9fd72c8"
  },
  {
   "cell_type": "markdown",
   "metadata": {},
   "source": [
    "Set seed and create Figure 3C for the Self-evaluations task mPFC ROI:"
   ],
   "id": "0ad22c43-8347-4c16-a973-c913ba170d8d"
  },
  {
   "cell_type": "code",
   "execution_count": null,
   "metadata": {},
   "outputs": [],
   "source": [
    "# set seed\n",
    "set.seed(1234)\n",
    "\n",
    "# calculate difference mpfc_self - mpfc_control\n",
    "data_self <- self_eval\n",
    "data_self$dif <- data_self$mpfc_self - data_self$mpfc_control\n",
    "\n",
    "# Estimate correlations\n",
    "Fig3c <- estim_corr(data = data_self,\n",
    "                    vars_of_interest = c(\"dif\",\n",
    "                                         \"age\"),\n",
    "                    sample_size = 20:149, \n",
    "                    k = 1000, \n",
    "                    name = \"C. Self-evaluations mPFC corr. with age\")\n"
   ],
   "id": "48e26831-9eae-4020-8b33-e77bda08102f"
  },
  {
   "cell_type": "markdown",
   "metadata": {},
   "source": [
    "Set seed and create Figure 3D for the Gaining for self task NAcc ROI:"
   ],
   "id": "dae5247b-8d9a-45b4-a094-e559f4b1a887"
  },
  {
   "cell_type": "code",
   "execution_count": null,
   "metadata": {},
   "outputs": [],
   "source": [
    "# set seed\n",
    "set.seed(1234)\n",
    "\n",
    "# calculate difference nacc_selfgain vs. nacc_bothnogain\n",
    "data_vicar <- vicar_char\n",
    "data_vicar$dif <- data_vicar$nacc_selfgain - data_vicar$nacc_bothnogain\n",
    "\n",
    "# Estimate correlations\n",
    "Fig3d <- estim_corr(data = data_vicar, \n",
    "                    vars_of_interest = c(\"diff\", \n",
    "                                         \"age\"),\n",
    "                    sample_size = 20:156, \n",
    "                    k = 1000, \n",
    "                    name = \"D. Gaining self left NAcc corr. with age\")\n"
   ],
   "id": "ee059ee3-d3a1-4727-a40a-43e182e8d3bd"
  },
  {
   "cell_type": "markdown",
   "metadata": {},
   "source": [
    "Combine figures 3A-D in one figure for Pearson’s correlations:"
   ],
   "id": "f4a784be-3217-4297-b765-ebf6e5d6ee12"
  },
  {
   "cell_type": "code",
   "execution_count": null,
   "metadata": {},
   "outputs": [],
   "source": [
    "Fig3a$fig_corr + Fig3b$fig_corr + Fig3c$fig_corr + Fig3d$fig_corr\n"
   ],
   "id": "9f601d93-728a-43a3-8ee2-fe242adf9630"
  },
  {
   "cell_type": "markdown",
   "metadata": {},
   "source": [
    "Combine figures 4A-D in one figure for the proportion of intervals not containing the value 0:"
   ],
   "id": "20acd574-e8b2-43d8-86d0-51959bd17f70"
  },
  {
   "cell_type": "code",
   "execution_count": null,
   "metadata": {},
   "outputs": [],
   "source": [
    "Fig3a$fig_corr_nozero + Fig3b$fig_corr_nozero + Fig3c$fig_corr_nozero + Fig3d$fig_corr_nozero\n"
   ],
   "id": "2087e28c-ce07-4e12-9b39-c0d8e8f1893f"
  },
  {
   "cell_type": "markdown",
   "metadata": {},
   "source": [
    "Extract numbers to make table 3:"
   ],
   "id": "c580a846-a604-485a-8db7-eb0e6a15d886"
  },
  {
   "cell_type": "code",
   "execution_count": null,
   "metadata": {},
   "outputs": [],
   "source": [
    "# first extract tibble from results (select mean only)\n",
    "feedback <- as_tibble(Fig3a$tbl_select) %>%\n",
    "  dplyr::filter(permutation == \"Overall\")\n",
    "gambling <- as_tibble(Fig3b$tbl_select) %>%\n",
    "  dplyr::filter(permutation == \"Overall\")\n",
    "selfeval <- as_tibble(Fig3c$tbl_select) %>%\n",
    "  dplyr::filter(permutation == \"Overall\")\n",
    "gaining <- as_tibble(Fig3d$tbl_select) %>%\n",
    "  dplyr::filter(permutation == \"Overall\")\n",
    "\n",
    "# use numbers to make a table in text\n"
   ],
   "id": "4136b725-1251-4fcb-99a3-35463fd69de4"
  }
 ],
 "nbformat": 4,
 "nbformat_minor": 5,
 "metadata": {}
}
