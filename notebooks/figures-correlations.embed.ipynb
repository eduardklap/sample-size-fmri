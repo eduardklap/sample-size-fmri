{
 "cells": [
  {
   "cell_type": "markdown",
   "metadata": {},
   "source": [
    "# Code for Figures 3-4 based on Pearson’s correlations\n",
    "\n",
    "Eduard Klapwijk\n",
    "\n",
    "Load libraries to produce figures:"
   ],
   "id": "1f0685d0-90a0-4554-b644-1421270c8ef7"
  },
  {
   "cell_type": "code",
   "execution_count": null,
   "metadata": {},
   "outputs": [],
   "source": [
    "# load libraries\n",
    "library(dplyr)\n",
    "library(patchwork)\n",
    "# load devtools library and load neuro-up package from github repo\n",
    "library(devtools)\n",
    "install_github(\"eduardklap/neuroUp\")\n",
    "library(neuroUp)"
   ],
   "id": "b9bca436-958c-41e3-aa37-cc1ec0dbe9c9"
  },
  {
   "cell_type": "markdown",
   "metadata": {},
   "source": [
    "Set seed and create Figure 3A for the Feedback task DLPFC ROI:"
   ],
   "id": "418a6ccc-62fc-4d0a-9649-68a84cacb032"
  },
  {
   "cell_type": "code",
   "execution_count": null,
   "metadata": {},
   "outputs": [],
   "source": [
    "# set seed\n",
    "set.seed(1234)\n",
    "\n",
    "# calculate difference mfg_learning vs. mfg_application\n",
    "data_feedback <- feedback\n",
    "data_feedback$dif <- data_feedback$mfg_learning - data_feedback$mfg_application\n",
    "\n",
    "# Estimate correlations\n",
    "Fig3a <- estim_corr(data = data_feedback,\n",
    "                    vars_of_interest = c(\"dif\", \"age\"),\n",
    "                    sample_size = 20:271, \n",
    "                    k = 1000, \n",
    "                    name = \"A. Feedback DLPFC corr. with age\")"
   ],
   "id": "2b103d29-0af0-4cfc-861a-10272193468c"
  },
  {
   "cell_type": "markdown",
   "metadata": {},
   "source": [
    "Set seed and create Figure 3B for the Gambling task NAcc ROI:"
   ],
   "id": "fb231522-7472-4a35-900e-9fbbcb486db0"
  },
  {
   "cell_type": "code",
   "execution_count": null,
   "metadata": {},
   "outputs": [],
   "source": [
    "# set seed\n",
    "set.seed(1234)\n",
    "\n",
    "# Estimate correlations\n",
    "Fig3b <- estim_corr(data = gambling, \n",
    "                    vars_of_interest = c(\"lnacc_self_winvsloss\", \n",
    "                                         \"age\"), \n",
    "                    sample_size = 20:221, \n",
    "                    k = 1000, \n",
    "                    name = \"B. Gambling NAcc corr. with age\")"
   ],
   "id": "e98875b8-53ef-4197-80b7-69a2b8110504"
  },
  {
   "cell_type": "markdown",
   "metadata": {},
   "source": [
    "Set seed and create Figure 3C for the Self-evaluations task mPFC ROI:"
   ],
   "id": "c77fbccc-1a3f-4738-bf73-6273645f9ae4"
  },
  {
   "cell_type": "code",
   "execution_count": null,
   "metadata": {},
   "outputs": [],
   "source": [
    "# set seed\n",
    "set.seed(1234)\n",
    "\n",
    "# calculate difference mpfc_self - mpfc_control\n",
    "data_self <- self_eval\n",
    "data_self$dif <- data_self$mpfc_self - data_self$mpfc_control\n",
    "\n",
    "# Estimate correlations\n",
    "Fig3c <- estim_corr(data = data_self,\n",
    "                    vars_of_interest = c(\"dif\",\n",
    "                                         \"age\"),\n",
    "                    sample_size = 20:149, \n",
    "                    k = 1000, \n",
    "                    name = \"C. Self-evaluations mPFC corr. with age\")"
   ],
   "id": "3b90847b-a68b-42fa-8d4c-9f901c036715"
  },
  {
   "cell_type": "markdown",
   "metadata": {},
   "source": [
    "Set seed and create Figure 3D for the Gaining for self task NAcc ROI:"
   ],
   "id": "bab6c9a2-9776-471a-92a8-eb6239ada04c"
  },
  {
   "cell_type": "code",
   "execution_count": null,
   "metadata": {},
   "outputs": [],
   "source": [
    "# set seed\n",
    "set.seed(1234)\n",
    "\n",
    "# calculate difference nacc_selfgain vs. nacc_bothnogain\n",
    "data_vicar <- vicar_char\n",
    "data_vicar$dif <- data_vicar$nacc_selfgain - data_vicar$nacc_bothnogain\n",
    "\n",
    "# Estimate correlations\n",
    "Fig3d <- estim_corr(data = data_vicar, \n",
    "                    vars_of_interest = c(\"diff\", \n",
    "                                         \"age\"),\n",
    "                    sample_size = 20:156, \n",
    "                    k = 1000, \n",
    "                    name = \"D. Gaining self left NAcc corr. with age\")"
   ],
   "id": "fe6f0265-329d-44d6-878a-a468729b2f12"
  },
  {
   "cell_type": "markdown",
   "metadata": {},
   "source": [
    "Combine figures 3A-D in one figure for Pearson’s correlations:"
   ],
   "id": "9a2f52c7-ae39-4e8d-9d00-ad3425618dc3"
  },
  {
   "cell_type": "code",
   "execution_count": null,
   "metadata": {},
   "outputs": [],
   "source": [
    "Fig3a$fig_corr + Fig3b$fig_corr + Fig3c$fig_corr + Fig3d$fig_corr"
   ],
   "id": "6ef34f66-43d8-42d9-b240-e98799a6879e"
  },
  {
   "cell_type": "markdown",
   "metadata": {},
   "source": [
    "Combine figures 4A-D in one figure for the proportion of intervals not containing the value 0:"
   ],
   "id": "3de10c7c-5a56-46fd-8fbe-2894256f967c"
  },
  {
   "cell_type": "code",
   "execution_count": null,
   "metadata": {},
   "outputs": [],
   "source": [
    "Fig3a$fig_corr_nozero + Fig3b$fig_corr_nozero + Fig3c$fig_corr_nozero + Fig3d$fig_corr_nozero"
   ],
   "id": "6f609eda-0b5d-4d62-861e-4a1fea24e4c4"
  },
  {
   "cell_type": "markdown",
   "metadata": {},
   "source": [
    "Extract numbers to make table 3:"
   ],
   "id": "aea128ee-c88b-4a2d-856f-49cb5a91e971"
  },
  {
   "cell_type": "code",
   "execution_count": null,
   "metadata": {},
   "outputs": [],
   "source": [
    "# first extract tibble from results (select mean only)\n",
    "feedback <- as_tibble(Fig3a$tbl_select) %>%\n",
    "  dplyr::filter(permutation == \"Overall\")\n",
    "gambling <- as_tibble(Fig3b$tbl_select) %>%\n",
    "  dplyr::filter(permutation == \"Overall\")\n",
    "selfeval <- as_tibble(Fig3c$tbl_select) %>%\n",
    "  dplyr::filter(permutation == \"Overall\")\n",
    "gaining <- as_tibble(Fig3d$tbl_select) %>%\n",
    "  dplyr::filter(permutation == \"Overall\")\n",
    "\n",
    "# use numbers to make a table in text"
   ],
   "id": "5d72283f-4f4d-43f0-a26b-2f25d83521f3"
  }
 ],
 "nbformat": 4,
 "nbformat_minor": 5,
 "metadata": {}
}
