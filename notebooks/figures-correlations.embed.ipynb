{
 "cells": [
  {
   "cell_type": "markdown",
   "metadata": {},
   "source": [
    "# Code for Figures 3-4 based on Pearson’s correlations\n",
    "\n",
    "Eduard Klapwijk\n",
    "\n",
    "Load libraries to produce figures:"
   ],
   "id": "b77fc84a-47e3-402c-80e6-8cfbdafc0cf9"
  },
  {
   "cell_type": "code",
   "execution_count": null,
   "metadata": {},
   "outputs": [],
   "source": [
    "# load libraries\n",
    "library(dplyr)\n",
    "library(patchwork)\n",
    "# load devtools library and load neuro-up package from github repo\n",
    "library(devtools)\n",
    "install_github(\"eduardklap/neuroUp\")\n",
    "library(neuroUp)"
   ],
   "id": "8d43079d-5892-4a50-b23c-7c38158ede32"
  },
  {
   "cell_type": "markdown",
   "metadata": {},
   "source": [
    "Set seed and create Figure 3A for the Feedback task DLPFC ROI:"
   ],
   "id": "733faccc-d67a-499c-b845-4dc4f2183708"
  },
  {
   "cell_type": "code",
   "execution_count": null,
   "metadata": {},
   "outputs": [],
   "source": [
    "# set seed\n",
    "set.seed(1234)\n",
    "\n",
    "# calculate difference mfg_learning vs. mfg_application\n",
    "data_feedback <- feedback\n",
    "data_feedback$dif <- data_feedback$mfg_learning - data_feedback$mfg_application\n",
    "\n",
    "# Estimate correlations\n",
    "Fig3a <- estim_corr(data = data_feedback,\n",
    "                    vars_of_interest = c(\"dif\", \"age\"),\n",
    "                    sample_size = 20:271, \n",
    "                    k = 1000, \n",
    "                    name = \"A. Feedback DLPFC corr. with age\")"
   ],
   "id": "6249c54a-43c1-4b2c-8a30-b8696756caf6"
  },
  {
   "cell_type": "markdown",
   "metadata": {},
   "source": [
    "Set seed and create Figure 3B for the Gambling task NAcc ROI:"
   ],
   "id": "26475289-c0bc-4e74-926b-2e33379a08cc"
  },
  {
   "cell_type": "code",
   "execution_count": null,
   "metadata": {},
   "outputs": [],
   "source": [
    "# set seed\n",
    "set.seed(1234)\n",
    "\n",
    "# Estimate correlations\n",
    "Fig3b <- estim_corr(data = gambling, \n",
    "                    vars_of_interest = c(\"lnacc_self_winvsloss\", \n",
    "                                         \"age\"), \n",
    "                    sample_size = 20:221, \n",
    "                    k = 1000, \n",
    "                    name = \"B. Gambling NAcc corr. with age\")"
   ],
   "id": "83cfb78e-5398-4dee-849e-7575d6cdda17"
  },
  {
   "cell_type": "markdown",
   "metadata": {},
   "source": [
    "Set seed and create Figure 3C for the Self-evaluations task mPFC ROI:"
   ],
   "id": "3b053dd2-2dd9-4712-91e2-36729a6cab40"
  },
  {
   "cell_type": "code",
   "execution_count": null,
   "metadata": {},
   "outputs": [],
   "source": [
    "# set seed\n",
    "set.seed(1234)\n",
    "\n",
    "# calculate difference mpfc_self - mpfc_control\n",
    "data_self <- self_eval\n",
    "data_self$dif <- data_self$mpfc_self - data_self$mpfc_control\n",
    "\n",
    "# Estimate correlations\n",
    "Fig3c <- estim_corr(data = data_self,\n",
    "                    vars_of_interest = c(\"dif\",\n",
    "                                         \"age\"),\n",
    "                    sample_size = 20:149, \n",
    "                    k = 1000, \n",
    "                    name = \"C. Self-evaluations mPFC corr. with age\")"
   ],
   "id": "a64dc780-8968-430f-8358-73f84c38aa7f"
  },
  {
   "cell_type": "markdown",
   "metadata": {},
   "source": [
    "Set seed and create Figure 3D for the Gaining for self task NAcc ROI:"
   ],
   "id": "01ea8e13-063a-463c-8627-414feb163a09"
  },
  {
   "cell_type": "code",
   "execution_count": null,
   "metadata": {},
   "outputs": [],
   "source": [
    "# set seed\n",
    "set.seed(1234)\n",
    "\n",
    "# calculate difference nacc_selfgain vs. nacc_bothnogain\n",
    "data_vicar <- vicar_char\n",
    "data_vicar$dif <- data_vicar$nacc_selfgain - data_vicar$nacc_bothnogain\n",
    "\n",
    "# Estimate correlations\n",
    "Fig3d <- estim_corr(data = data_vicar, \n",
    "                    vars_of_interest = c(\"diff\", \n",
    "                                         \"age\"),\n",
    "                    sample_size = 20:156, \n",
    "                    k = 1000, \n",
    "                    name = \"D. Gaining self left NAcc corr. with age\")"
   ],
   "id": "dde08541-7df0-4c5a-9c9d-9054aebf7f15"
  },
  {
   "cell_type": "markdown",
   "metadata": {},
   "source": [
    "Combine figures 3A-D in one figure for Pearson’s correlations:"
   ],
   "id": "a84174af-de45-4575-9a0f-78209f381e90"
  },
  {
   "cell_type": "code",
   "execution_count": null,
   "metadata": {},
   "outputs": [],
   "source": [
    "Fig3a$fig_corr + Fig3b$fig_corr + Fig3c$fig_corr + Fig3d$fig_corr"
   ],
   "id": "b04aad36-54d0-4fad-bf14-36975883081f"
  },
  {
   "cell_type": "markdown",
   "metadata": {},
   "source": [
    "Combine figures 4A-D in one figure for the proportion of intervals not containing the value 0:"
   ],
   "id": "9f46f745-db01-4dcb-ba65-731358fd8732"
  },
  {
   "cell_type": "code",
   "execution_count": null,
   "metadata": {},
   "outputs": [],
   "source": [
    "Fig3a$fig_corr_nozero + Fig3b$fig_corr_nozero + Fig3c$fig_corr_nozero + Fig3d$fig_corr_nozero"
   ],
   "id": "d650171d-431e-4a44-bf9a-0adcfe209213"
  },
  {
   "cell_type": "markdown",
   "metadata": {},
   "source": [
    "Extract numbers to make table 3:"
   ],
   "id": "952b14cf-d677-4970-91d9-eaa4c01d7c75"
  },
  {
   "cell_type": "code",
   "execution_count": null,
   "metadata": {},
   "outputs": [],
   "source": [
    "# first extract tibble from results (select mean only)\n",
    "feedback <- as_tibble(Fig3a$tbl_select) %>%\n",
    "  dplyr::filter(permutation == \"Overall\")\n",
    "gambling <- as_tibble(Fig3b$tbl_select) %>%\n",
    "  dplyr::filter(permutation == \"Overall\")\n",
    "selfeval <- as_tibble(Fig3c$tbl_select) %>%\n",
    "  dplyr::filter(permutation == \"Overall\")\n",
    "gaining <- as_tibble(Fig3d$tbl_select) %>%\n",
    "  dplyr::filter(permutation == \"Overall\")\n",
    "\n",
    "# use numbers to make a table in text"
   ],
   "id": "9e3748dc-ff10-49be-9a8d-80bafb4be4fe"
  }
 ],
 "nbformat": 4,
 "nbformat_minor": 5,
 "metadata": {}
}
