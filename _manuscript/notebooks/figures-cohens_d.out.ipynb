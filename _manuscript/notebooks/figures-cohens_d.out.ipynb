{
 "cells": [
  {
   "cell_type": "markdown",
   "metadata": {},
   "source": [
    "# Code for Figures 1-2 based on Cohen’s d\n",
    "\n",
    "Eduard Klapwijk\n",
    "\n",
    "Load libraries to produce figures:"
   ],
   "id": "1662e68a-53f7-4246-935d-44578c796bf9"
  },
  {
   "cell_type": "code",
   "execution_count": null,
   "metadata": {},
   "outputs": [],
   "source": [
    "# load libraries\n",
    "library(dplyr)\n",
    "library(patchwork)\n",
    "# load devtools library and load neuro-up package from github repo\n",
    "library(devtools)\n",
    "install_github(\"eduardklap/neuroUp\")\n",
    "library(neuroUp)\n"
   ],
   "id": "7e8e2d25-eaf3-4117-bffc-12906ae89403"
  },
  {
   "cell_type": "markdown",
   "metadata": {},
   "source": [
    "Set seed and create Figure 1A for the Feedback task DLPFC ROI:"
   ],
   "id": "b9105184-9df1-483b-bfce-61781f1ba2e4"
  },
  {
   "cell_type": "code",
   "execution_count": null,
   "metadata": {},
   "outputs": [],
   "source": [
    "# set seed\n",
    "set.seed(1234)\n",
    "\n",
    "# Estimate differences (unstandardized and Cohen's d)\n",
    "Fig1a <- estim_diff(data = feedback,\n",
    "                    vars_of_interest = c(\"mfg_learning\", \n",
    "                                         \"mfg_application\"),\n",
    "                    sample_size = 20:271, \n",
    "                    k = 1000, \n",
    "                    name = \"A. Feedback DLPFC\")\n"
   ],
   "id": "c0b75a36-05ed-4ad7-b859-58d15025edf5"
  },
  {
   "cell_type": "markdown",
   "metadata": {},
   "source": [
    "Set seed and create Figure 1B for the Gambling task NAcc ROI:"
   ],
   "id": "e4550ae0-28c9-41c6-81fc-57e1429f537c"
  },
  {
   "cell_type": "code",
   "execution_count": null,
   "metadata": {},
   "outputs": [],
   "source": [
    "# set seed\n",
    "set.seed(1234)\n",
    "\n",
    "# Estimate differences (unstandardized and Cohen's d)\n",
    "Fig1b <- estim_diff(data = gambling, \n",
    "                    vars_of_interest = c(\"lnacc_self_win\", \n",
    "                                         \"lnacc_self_loss\"), \n",
    "                    sample_size = 20:221, \n",
    "                    k = 1000, \n",
    "                    name = \"B. Gambling NAcc\")\n"
   ],
   "id": "c2914db0-3080-40cf-814e-1995a252a5f3"
  },
  {
   "cell_type": "markdown",
   "metadata": {},
   "source": [
    "Set seed and create Figure 1C for the Self-evaluations task mPFC ROI:"
   ],
   "id": "fbdad508-b3b6-42fa-8fa4-2098818cc951"
  },
  {
   "cell_type": "code",
   "execution_count": null,
   "metadata": {},
   "outputs": [],
   "source": [
    "# set seed\n",
    "set.seed(1234)\n",
    "\n",
    "# Estimate differences (unstandardized and Cohen's d)\n",
    "Fig1c <- estim_diff(data = self_eval, \n",
    "                    vars_of_interest = c(\"mpfc_self\", \n",
    "                                         \"mpfc_control\"),\n",
    "                    sample_size = 20:149, \n",
    "                    k = 10, \n",
    "                    name = \"C. Self-evaluations mPFC\")\n"
   ],
   "id": "1cebea64-1d2f-4c61-98ec-95612f3b6013"
  },
  {
   "cell_type": "markdown",
   "metadata": {},
   "source": [
    "Set seed and create Figure 1D for the Gaining for self task NAcc ROI:"
   ],
   "id": "1227a47c-68ac-4833-b1be-feb106030930"
  },
  {
   "cell_type": "code",
   "execution_count": null,
   "metadata": {},
   "outputs": [],
   "source": [
    "# set seed\n",
    "set.seed(1234)\n",
    "\n",
    "# Estimate differences (unstandardized and Cohen's d)\n",
    "Fig1d <- estim_diff(data = vicar_char, \n",
    "                    vars_of_interest = c(\"nacc_selfgain\", \n",
    "                                         \"nacc_bothnogain\"),\n",
    "                    sample_size = 20:156, \n",
    "                    k = 10, \n",
    "                    name = \"D. Gaining self NAcc\")\n"
   ],
   "id": "8fb3262b-9e3d-4c11-abec-afddbfd4e2db"
  },
  {
   "cell_type": "markdown",
   "metadata": {},
   "source": [
    "Combine figures 1A-D in one figure for Cohen’s d estimates:"
   ],
   "id": "289091a9-a407-45a9-b20a-592f93b0b539"
  },
  {
   "cell_type": "code",
   "execution_count": null,
   "metadata": {},
   "outputs": [],
   "source": [
    "Fig1a$fig_cohens_d + Fig1b$fig_cohens_d + Fig1c$fig_cohens_d + Fig1d$fig_cohens_d\n"
   ],
   "id": "8c9dff54-346e-469e-b885-e613de3f7d0b"
  },
  {
   "cell_type": "markdown",
   "metadata": {},
   "source": [
    "Combine figures 1A-D in one figure for the proportion of intervals not containing the value 0:"
   ],
   "id": "994738d8-957f-4921-9f12-199ff897681a"
  },
  {
   "cell_type": "code",
   "execution_count": null,
   "metadata": {},
   "outputs": [],
   "source": [
    "Fig1a$fig_d_nozero + Fig1b$fig_d_nozero + Fig1c$fig_d_nozero + Fig1d$fig_d_nozero\n"
   ],
   "id": "21fe72e0-0cf6-487d-b353-c5677da0fb06"
  },
  {
   "cell_type": "markdown",
   "metadata": {},
   "source": [
    "Extract numbers to make table 2:"
   ],
   "id": "2c428ba4-42a9-4de9-a86b-34bd792850ff"
  },
  {
   "cell_type": "code",
   "execution_count": null,
   "metadata": {},
   "outputs": [],
   "source": [
    "# first extract tibble from results (select mean only)\n",
    "feedback <- as_tibble(Fig1a$tbl_select) %>%\n",
    "  dplyr::filter(permutation == \"Overall\")\n",
    "gambling <- as_tibble(Fig1b$tbl_select) %>%\n",
    "  dplyr::filter(permutation == \"Overall\")\n",
    "selfeval <- as_tibble(Fig1c$tbl_select) %>%\n",
    "  dplyr::filter(permutation == \"Overall\")\n",
    "gaining <- as_tibble(Fig1d$tbl_select) %>%\n",
    "  dplyr::filter(permutation == \"Overall\")\n",
    "\n",
    "# use numbers to make a table in text\n"
   ],
   "id": "07541f4c-ed8c-40e2-9d12-8821a60bc653"
  }
 ],
 "nbformat": 4,
 "nbformat_minor": 5,
 "metadata": {}
}
